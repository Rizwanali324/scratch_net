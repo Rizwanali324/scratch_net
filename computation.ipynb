{
  "nbformat": 4,
  "nbformat_minor": 0,
  "metadata": {
    "colab": {
      "provenance": [],
      "gpuType": "T4"
    },
    "kernelspec": {
      "name": "python3",
      "display_name": "Python 3"
    },
    "language_info": {
      "name": "python"
    },
    "accelerator": "GPU"
  },
  "cells": [
    {
      "cell_type": "code",
      "execution_count": 1,
      "metadata": {
        "colab": {
          "base_uri": "https://localhost:8080/"
        },
        "id": "7oLkEDm3N1j8",
        "outputId": "3ab08bb6-eb48-4fd0-c14e-019fbf4a0430"
      },
      "outputs": [
        {
          "output_type": "stream",
          "name": "stdout",
          "text": [
            "Reading package lists... Done\n",
            "Building dependency tree... Done\n",
            "Reading state information... Done\n",
            "libgraphviz-dev is already the newest version (2.42.2-6).\n",
            "0 upgraded, 0 newly installed, 0 to remove and 33 not upgraded.\n",
            "Requirement already satisfied: pygraphviz in /usr/local/lib/python3.10/dist-packages (1.12)\n",
            "Requirement already satisfied: numpy in /usr/local/lib/python3.10/dist-packages (from -r requirements.txt (line 1)) (1.25.2)\n",
            "Requirement already satisfied: torch in /usr/local/lib/python3.10/dist-packages (from -r requirements.txt (line 2)) (2.1.0+cu121)\n",
            "Requirement already satisfied: torchvision in /usr/local/lib/python3.10/dist-packages (from -r requirements.txt (line 3)) (0.16.0+cu121)\n",
            "Requirement already satisfied: matplotlib in /usr/local/lib/python3.10/dist-packages (from -r requirements.txt (line 4)) (3.7.1)\n",
            "Requirement already satisfied: networkx in /usr/local/lib/python3.10/dist-packages (from -r requirements.txt (line 5)) (3.2.1)\n",
            "Requirement already satisfied: pygraphviz in /usr/local/lib/python3.10/dist-packages (from -r requirements.txt (line 6)) (1.12)\n",
            "Requirement already satisfied: tqdm in /usr/local/lib/python3.10/dist-packages (from -r requirements.txt (line 7)) (4.66.2)\n",
            "Requirement already satisfied: filelock in /usr/local/lib/python3.10/dist-packages (from torch->-r requirements.txt (line 2)) (3.13.1)\n",
            "Requirement already satisfied: typing-extensions in /usr/local/lib/python3.10/dist-packages (from torch->-r requirements.txt (line 2)) (4.9.0)\n",
            "Requirement already satisfied: sympy in /usr/local/lib/python3.10/dist-packages (from torch->-r requirements.txt (line 2)) (1.12)\n",
            "Requirement already satisfied: jinja2 in /usr/local/lib/python3.10/dist-packages (from torch->-r requirements.txt (line 2)) (3.1.3)\n",
            "Requirement already satisfied: fsspec in /usr/local/lib/python3.10/dist-packages (from torch->-r requirements.txt (line 2)) (2023.6.0)\n",
            "Requirement already satisfied: triton==2.1.0 in /usr/local/lib/python3.10/dist-packages (from torch->-r requirements.txt (line 2)) (2.1.0)\n",
            "Requirement already satisfied: requests in /usr/local/lib/python3.10/dist-packages (from torchvision->-r requirements.txt (line 3)) (2.31.0)\n",
            "Requirement already satisfied: pillow!=8.3.*,>=5.3.0 in /usr/local/lib/python3.10/dist-packages (from torchvision->-r requirements.txt (line 3)) (9.4.0)\n",
            "Requirement already satisfied: contourpy>=1.0.1 in /usr/local/lib/python3.10/dist-packages (from matplotlib->-r requirements.txt (line 4)) (1.2.0)\n",
            "Requirement already satisfied: cycler>=0.10 in /usr/local/lib/python3.10/dist-packages (from matplotlib->-r requirements.txt (line 4)) (0.12.1)\n",
            "Requirement already satisfied: fonttools>=4.22.0 in /usr/local/lib/python3.10/dist-packages (from matplotlib->-r requirements.txt (line 4)) (4.48.1)\n",
            "Requirement already satisfied: kiwisolver>=1.0.1 in /usr/local/lib/python3.10/dist-packages (from matplotlib->-r requirements.txt (line 4)) (1.4.5)\n",
            "Requirement already satisfied: packaging>=20.0 in /usr/local/lib/python3.10/dist-packages (from matplotlib->-r requirements.txt (line 4)) (23.2)\n",
            "Requirement already satisfied: pyparsing>=2.3.1 in /usr/local/lib/python3.10/dist-packages (from matplotlib->-r requirements.txt (line 4)) (3.1.1)\n",
            "Requirement already satisfied: python-dateutil>=2.7 in /usr/local/lib/python3.10/dist-packages (from matplotlib->-r requirements.txt (line 4)) (2.8.2)\n",
            "Requirement already satisfied: six>=1.5 in /usr/local/lib/python3.10/dist-packages (from python-dateutil>=2.7->matplotlib->-r requirements.txt (line 4)) (1.16.0)\n",
            "Requirement already satisfied: MarkupSafe>=2.0 in /usr/local/lib/python3.10/dist-packages (from jinja2->torch->-r requirements.txt (line 2)) (2.1.5)\n",
            "Requirement already satisfied: charset-normalizer<4,>=2 in /usr/local/lib/python3.10/dist-packages (from requests->torchvision->-r requirements.txt (line 3)) (3.3.2)\n",
            "Requirement already satisfied: idna<4,>=2.5 in /usr/local/lib/python3.10/dist-packages (from requests->torchvision->-r requirements.txt (line 3)) (3.6)\n",
            "Requirement already satisfied: urllib3<3,>=1.21.1 in /usr/local/lib/python3.10/dist-packages (from requests->torchvision->-r requirements.txt (line 3)) (2.0.7)\n",
            "Requirement already satisfied: certifi>=2017.4.17 in /usr/local/lib/python3.10/dist-packages (from requests->torchvision->-r requirements.txt (line 3)) (2024.2.2)\n",
            "Requirement already satisfied: mpmath>=0.19 in /usr/local/lib/python3.10/dist-packages (from sympy->torch->-r requirements.txt (line 2)) (1.3.0)\n"
          ]
        }
      ],
      "source": [
        "\n",
        "!apt install libgraphviz-dev\n",
        "!pip install pygraphviz\n",
        "!pip install -r requirements.txt"
      ]
    },
    {
      "cell_type": "code",
      "source": [
        "!python test_scratch_grad.py"
      ],
      "metadata": {
        "colab": {
          "base_uri": "https://localhost:8080/"
        },
        "id": "mzDRQ77kOP77",
        "outputId": "58c6eab2-69da-4cf1-cfd4-733024652fd3"
      },
      "execution_count": 2,
      "outputs": [
        {
          "output_type": "stream",
          "name": "stdout",
          "text": [
            ".......................\n",
            "----------------------------------------------------------------------\n",
            "Ran 23 tests in 0.017s\n",
            "\n",
            "OK\n"
          ]
        }
      ]
    },
    {
      "cell_type": "code",
      "source": [
        "#Chargement des librairies utilisées\n",
        "import sys\n",
        "sys.path.append('/content/drive/My Drive/Colab Notebooks/')\n",
        "from scratch_grad import Variable\n",
        "\n",
        "import numpy as np"
      ],
      "metadata": {
        "id": "Jz8nQ2yROlJh"
      },
      "execution_count": 3,
      "outputs": []
    },
    {
      "cell_type": "code",
      "source": [
        "# Définition des variables de l'énoncé\n",
        "W1 = Variable(np.array([[1, -1, -2], [-0.6, 0.2, -0.4]]), name=\"W1\")\n",
        "b1 = Variable(np.array([[0.5], [2.8]]), name=\"b1\")\n",
        "W2 = Variable(np.array([[0.3, 0.8], [-1.5, -0.8]]), name=\"W2\")\n",
        "b2 = Variable(np.array([[-0.1], [0.4]]), name=\"b2\")\n",
        "W3 = Variable(np.array([[-0.5, 1.5]]), name=\"W3\")\n",
        "b3 = Variable(np.array([0.5]), name=\"b3\")\n",
        "X = Variable(np.array([[2], [1], [1]]), name=\"X\")\n",
        "Y = Variable(np.array([1]), name=\"Y\")\n",
        "\n",
        "# Calcul des valeurs intermédiaires\n",
        "W1X = W1 @ X\n",
        "W1X._name = \"W1*X\"\n",
        "a1 = W1X + b1\n",
        "a1._name = \"a1\"\n",
        "h1 = a1.relu()\n",
        "h1._name = \"h1\"\n",
        "W2h1 = W2 @ h1\n",
        "W2h1._name = \"W2*h1\"\n",
        "a2 = W2h1 + b2\n",
        "a2._name = \"a2\"\n",
        "h2 = a2.relu()\n",
        "h2._name = \"h2\"\n",
        "W3h2 = W3 @ h2\n",
        "W3h2._name = \"W3*h2\"\n",
        "a3 = W3h2 + b3\n",
        "a3._name = \"a3\"\n",
        "h3 = a3.sigmoid()\n",
        "h3._name = \"h3\"\n",
        "\n",
        "# Calcul de la fonction de perte\n",
        "loss = (-Y) * h3.log() - (Variable(1) - Y) * (Variable(1) - h3).log()"
      ],
      "metadata": {
        "id": "57L_IEbePKZT"
      },
      "execution_count": 4,
      "outputs": []
    },
    {
      "cell_type": "code",
      "source": [
        "#Chargement des librairies utilisées\n",
        "from tabulate import tabulate\n",
        "\n",
        "# Définition des données à afficher avec explicit string conversion for NumPy arrays\n",
        "data = [\n",
        "    [\"h3\", str(h3.data)],\n",
        "    [\"a3\", str(a3.data)],\n",
        "    [\"h2\", str(h2.data)],\n",
        "    [\"a2\", str(a2.data)],\n",
        "    [\"h1\", str(h1.data)],\n",
        "    [\"a1\", str(a1.data)]\n",
        "]\n",
        "\n",
        "# Définition des enn-têtes\n",
        "headers = [\"Variable\", \"Valeur\"]\n",
        "\n",
        "# Affichage du tableau\n",
        "print(tabulate(data, headers=headers, tablefmt=\"grid\"))\n"
      ],
      "metadata": {
        "colab": {
          "base_uri": "https://localhost:8080/"
        },
        "id": "0CAwrM0NPbHb",
        "outputId": "1e26b1c7-a8bc-4d08-de0f-8c8fde3296b5"
      },
      "execution_count": 5,
      "outputs": [
        {
          "output_type": "stream",
          "name": "stdout",
          "text": [
            "+------------+----------------+\n",
            "| Variable   | Valeur         |\n",
            "+============+================+\n",
            "| h3         | [[0.49750002]] |\n",
            "+------------+----------------+\n",
            "| a3         | [[-0.01]]      |\n",
            "+------------+----------------+\n",
            "| h2         | [[1.02]        |\n",
            "|            |  [0.  ]]       |\n",
            "+------------+----------------+\n",
            "| a2         | [[ 1.02]       |\n",
            "|            |  [-0.72]]      |\n",
            "+------------+----------------+\n",
            "| h1         | [[0. ]         |\n",
            "|            |  [1.4]]        |\n",
            "+------------+----------------+\n",
            "| a1         | [[-0.5]        |\n",
            "|            |  [ 1.4]]       |\n",
            "+------------+----------------+\n"
          ]
        }
      ]
    },
    {
      "cell_type": "code",
      "source": [
        "h3.show()"
      ],
      "metadata": {
        "colab": {
          "base_uri": "https://localhost:8080/",
          "height": 954
        },
        "id": "-T8honmfQzdm",
        "outputId": "a564b67d-5157-4188-e8f8-355f516c8aee"
      },
      "execution_count": 6,
      "outputs": [
        {
          "output_type": "display_data",
          "data": {
            "text/plain": [
              "<Figure size 1000x1500 with 1 Axes>"
            ],
            "image/png": "[encoded data removed]"
          },
          "metadata": {}
        }
      ]
    },
    {
      "cell_type": "code",
      "source": [
        "!python train_mnist.py\n"
      ],
      "metadata": {
        "colab": {
          "base_uri": "https://localhost:8080/"
        },
        "id": "DkwugKzyQ0BM",
        "outputId": "508eaa13-7727-4acf-d440-d67fb6a79769"
      },
      "execution_count": 7,
      "outputs": [
        {
          "output_type": "stream",
          "name": "stdout",
          "text": [
            "100% 3750/3750 [01:08<00:00, 54.71it/s]\n",
            "Epoch 0\n",
            "\tTrain:\t\tLoss 2.517932130115426,\tAcc 0.10586666666666666\n",
            "\tValidation:\tLoss 2.2939111562896786,\tAcc 0.03125\n",
            "Figure(640x480)\n",
            "100% 3750/3750 [01:06<00:00, 56.59it/s]\n",
            "Epoch 1\n",
            "\tTrain:\t\tLoss 2.3182454018013385,\tAcc 0.10853333333333333\n",
            "\tValidation:\tLoss 2.281526767445829,\tAcc 0.15625\n",
            "Figure(640x480)\n",
            "Figure(640x480)\n",
            "100% 3750/3750 [01:09<00:00, 54.31it/s]\n",
            "Epoch 2\n",
            "\tTrain:\t\tLoss 2.3198409413134677,\tAcc 0.09866666666666667\n",
            "\tValidation:\tLoss 2.3174075059515906,\tAcc 0.09375\n",
            "Figure(640x480)\n",
            "Figure(640x480)\n",
            "100% 3750/3750 [01:07<00:00, 55.94it/s]\n",
            "Epoch 3\n",
            "\tTrain:\t\tLoss 2.3169189088965116,\tAcc 0.10533333333333333\n",
            "\tValidation:\tLoss 2.318821869543922,\tAcc 0.09375\n",
            "Figure(640x480)\n",
            "Figure(640x480)\n",
            "100% 3750/3750 [01:06<00:00, 56.04it/s]\n",
            "Epoch 4\n",
            "\tTrain:\t\tLoss 2.3159733926627424,\tAcc 0.10853333333333333\n",
            "\tValidation:\tLoss 2.357366572933084,\tAcc 0.09375\n",
            "Figure(640x480)\n",
            "Figure(640x480)\n",
            "100% 3750/3750 [01:11<00:00, 52.62it/s]\n",
            "Epoch 5\n",
            "\tTrain:\t\tLoss 2.3170836225698617,\tAcc 0.10693333333333334\n",
            "\tValidation:\tLoss 2.31301932121099,\tAcc 0.09375\n",
            "Figure(640x480)\n",
            "Figure(640x480)\n",
            "100% 3750/3750 [01:06<00:00, 56.38it/s]\n",
            "Epoch 6\n",
            "\tTrain:\t\tLoss 2.3214158039970676,\tAcc 0.09866666666666667\n",
            "\tValidation:\tLoss 2.2767547394566363,\tAcc 0.15625\n",
            "Figure(640x480)\n",
            "Figure(640x480)\n",
            "100% 3750/3750 [01:08<00:00, 55.11it/s]\n",
            "Epoch 7\n",
            "\tTrain:\t\tLoss 2.3198594654285234,\tAcc 0.09866666666666667\n",
            "\tValidation:\tLoss 2.282719036613564,\tAcc 0.0625\n",
            "Figure(640x480)\n",
            "Figure(640x480)\n",
            "100% 3750/3750 [01:06<00:00, 56.31it/s]\n",
            "Epoch 8\n",
            "\tTrain:\t\tLoss 2.3186953640184234,\tAcc 0.11333333333333333\n",
            "\tValidation:\tLoss 2.336535919171387,\tAcc 0.0\n",
            "Figure(640x480)\n",
            "Figure(640x480)\n",
            "100% 3750/3750 [01:08<00:00, 54.54it/s]\n",
            "Epoch 9\n",
            "\tTrain:\t\tLoss 2.320638002044614,\tAcc 0.09946666666666666\n",
            "\tValidation:\tLoss 2.2943916762908056,\tAcc 0.15625\n",
            "Figure(640x480)\n",
            "Figure(640x480)\n",
            "100% 3750/3750 [01:12<00:00, 51.86it/s]\n",
            "Epoch 10\n",
            "\tTrain:\t\tLoss 2.319222389527747,\tAcc 0.1056\n",
            "\tValidation:\tLoss 2.306308184400919,\tAcc 0.15625\n",
            "Figure(640x480)\n",
            "Figure(640x480)\n",
            "100% 3750/3750 [01:08<00:00, 54.73it/s]\n",
            "Epoch 11\n",
            "\tTrain:\t\tLoss 2.316963946986484,\tAcc 0.10986666666666667\n",
            "\tValidation:\tLoss 2.3120033150998935,\tAcc 0.15625\n",
            "Figure(640x480)\n",
            "Figure(640x480)\n",
            "100% 3750/3750 [01:07<00:00, 55.61it/s]\n",
            "Epoch 12\n",
            "\tTrain:\t\tLoss 2.3209132045142735,\tAcc 0.10213333333333334\n",
            "\tValidation:\tLoss 2.2769662424052672,\tAcc 0.15625\n",
            "Figure(640x480)\n",
            "Figure(640x480)\n",
            "100% 3750/3750 [01:07<00:00, 55.93it/s]\n",
            "Epoch 13\n",
            "\tTrain:\t\tLoss 2.317751219183386,\tAcc 0.10906666666666667\n",
            "\tValidation:\tLoss 2.3412006998770742,\tAcc 0.09375\n",
            "Figure(640x480)\n",
            "Figure(640x480)\n",
            "100% 3750/3750 [01:07<00:00, 55.25it/s]\n",
            "Epoch 14\n",
            "\tTrain:\t\tLoss 2.3205585804283055,\tAcc 0.10586666666666666\n",
            "\tValidation:\tLoss 2.3276866769701403,\tAcc 0.09375\n",
            "Figure(640x480)\n",
            "Figure(640x480)\n",
            "100% 3750/3750 [01:07<00:00, 55.40it/s]\n",
            "Epoch 15\n",
            "\tTrain:\t\tLoss 2.3206285436361385,\tAcc 0.0976\n",
            "\tValidation:\tLoss 2.268932248729679,\tAcc 0.15625\n",
            "Figure(640x480)\n",
            "Figure(640x480)\n",
            "100% 3750/3750 [01:08<00:00, 54.58it/s]\n",
            "Epoch 16\n",
            "\tTrain:\t\tLoss 2.3209217513930334,\tAcc 0.10133333333333333\n",
            "\tValidation:\tLoss 2.3263585357363072,\tAcc 0.09375\n",
            "Figure(640x480)\n",
            "Figure(640x480)\n",
            "100% 3750/3750 [01:07<00:00, 55.76it/s]\n",
            "Epoch 17\n",
            "\tTrain:\t\tLoss 2.320418326084695,\tAcc 0.10346666666666667\n",
            "\tValidation:\tLoss 2.347097475500532,\tAcc 0.0\n",
            "Figure(640x480)\n",
            "Figure(640x480)\n",
            "100% 3750/3750 [01:07<00:00, 55.40it/s]\n",
            "Epoch 18\n",
            "\tTrain:\t\tLoss 2.3213098408787713,\tAcc 0.1008\n",
            "\tValidation:\tLoss 2.385295815770268,\tAcc 0.03125\n",
            "Figure(640x480)\n",
            "Figure(640x480)\n",
            "100% 3750/3750 [01:07<00:00, 55.89it/s]\n",
            "Epoch 19\n",
            "\tTrain:\t\tLoss 2.3195824171956065,\tAcc 0.10426666666666666\n",
            "\tValidation:\tLoss 2.294151648992524,\tAcc 0.15625\n",
            "Figure(640x480)\n",
            "Figure(640x480)\n",
            "100% 3750/3750 [01:08<00:00, 54.74it/s]\n",
            "Epoch 20\n",
            "\tTrain:\t\tLoss 2.3193099863596207,\tAcc 0.1112\n",
            "\tValidation:\tLoss 2.302900692039787,\tAcc 0.09375\n",
            "Figure(640x480)\n",
            "Figure(640x480)\n",
            "100% 3750/3750 [01:07<00:00, 55.25it/s]\n",
            "Epoch 21\n",
            "\tTrain:\t\tLoss 2.3195684349204764,\tAcc 0.09866666666666667\n",
            "\tValidation:\tLoss 2.3742224778997887,\tAcc 0.0\n",
            "Figure(640x480)\n",
            "Figure(640x480)\n",
            "100% 3750/3750 [01:07<00:00, 55.54it/s]\n",
            "Epoch 22\n",
            "\tTrain:\t\tLoss 2.320467900912026,\tAcc 0.09973333333333333\n",
            "\tValidation:\tLoss 2.2927323372863744,\tAcc 0.0625\n",
            "Figure(640x480)\n",
            "Figure(640x480)\n",
            "100% 3750/3750 [01:07<00:00, 55.92it/s]\n",
            "Epoch 23\n",
            "\tTrain:\t\tLoss 2.3202347578536444,\tAcc 0.10506666666666667\n",
            "\tValidation:\tLoss 2.320699581306611,\tAcc 0.09375\n",
            "Figure(640x480)\n",
            "Figure(640x480)\n",
            "100% 3750/3750 [01:06<00:00, 56.12it/s]\n",
            "Epoch 24\n",
            "\tTrain:\t\tLoss 2.3202142521397615,\tAcc 0.09946666666666666\n",
            "\tValidation:\tLoss 2.3161231037394545,\tAcc 0.09375\n",
            "Figure(640x480)\n",
            "Figure(640x480)\n",
            "100% 3750/3750 [01:08<00:00, 55.00it/s]\n",
            "Epoch 25\n",
            "\tTrain:\t\tLoss 2.320455025167376,\tAcc 0.1056\n",
            "\tValidation:\tLoss 2.282679690108452,\tAcc 0.09375\n",
            "Figure(640x480)\n",
            "Figure(640x480)\n",
            "100% 3750/3750 [01:06<00:00, 55.99it/s]\n",
            "Epoch 26\n",
            "\tTrain:\t\tLoss 2.3199763950077275,\tAcc 0.09813333333333334\n",
            "\tValidation:\tLoss 2.290974229215662,\tAcc 0.09375\n",
            "Figure(640x480)\n",
            "Figure(640x480)\n",
            "100% 3750/3750 [01:09<00:00, 54.18it/s]\n",
            "Epoch 27\n",
            "\tTrain:\t\tLoss 2.322082559304633,\tAcc 0.0936\n",
            "\tValidation:\tLoss 2.3508260320077703,\tAcc 0.03125\n",
            "Figure(640x480)\n",
            "Figure(640x480)\n",
            "100% 3750/3750 [01:06<00:00, 56.20it/s]\n",
            "Epoch 28\n",
            "\tTrain:\t\tLoss 2.321185211047886,\tAcc 0.09573333333333334\n",
            "\tValidation:\tLoss 2.2517031121114943,\tAcc 0.15625\n",
            "Figure(640x480)\n",
            "Figure(640x480)\n",
            "100% 3750/3750 [01:07<00:00, 55.15it/s]\n",
            "Epoch 29\n",
            "\tTrain:\t\tLoss 2.320272442621014,\tAcc 0.09626666666666667\n",
            "\tValidation:\tLoss 2.349885484738607,\tAcc 0.15625\n",
            "Figure(640x480)\n",
            "Figure(640x480)\n"
          ]
        }
      ]
    },
    {
      "cell_type": "code",
      "source": [
        "import os\n",
        "from google.colab import files\n",
        "\n",
        "# Specify the folder you want to download\n",
        "folder_path = '/content/data'\n",
        "\n",
        "# Specify the name of the zip file you want to create\n",
        "zip_name = 'data.zip'\n",
        "\n",
        "# Compress the folder\n",
        "!zip -r {zip_name} {folder_path}\n",
        "\n",
        "# Download the zipped file\n",
        "files.download(zip_name)\n",
        "\n",
        "# Optional: Cleanup by removing the zip file after download\n",
        "#os.remove(zip_name)\n"
      ],
      "metadata": {
        "colab": {
          "base_uri": "https://localhost:8080/",
          "height": 208
        },
        "id": "kmgJN6ZRQ4mK",
        "outputId": "c322005b-8e0c-44d5-9f56-06c9c87a7295"
      },
      "execution_count": 8,
      "outputs": [
        {
          "output_type": "stream",
          "name": "stdout",
          "text": [
            "  adding: content/data/ (stored 0%)\n",
            "  adding: content/data/MNIST/ (stored 0%)\n",
            "  adding: content/data/MNIST/raw/ (stored 0%)\n",
            "  adding: content/data/MNIST/raw/train-images-idx3-ubyte (deflated 79%)\n",
            "  adding: content/data/MNIST/raw/t10k-labels-idx1-ubyte (deflated 55%)\n",
            "  adding: content/data/MNIST/raw/t10k-images-idx3-ubyte.gz (deflated 0%)\n",
            "  adding: content/data/MNIST/raw/train-images-idx3-ubyte.gz (deflated 0%)\n",
            "  adding: content/data/MNIST/raw/t10k-labels-idx1-ubyte.gz (stored 0%)\n",
            "  adding: content/data/MNIST/raw/train-labels-idx1-ubyte (deflated 52%)\n",
            "  adding: content/data/MNIST/raw/t10k-images-idx3-ubyte (deflated 79%)\n",
            "  adding: content/data/MNIST/raw/train-labels-idx1-ubyte.gz (stored 0%)\n"
          ]
        },
        {
          "output_type": "display_data",
          "data": {
            "text/plain": [
              "<IPython.core.display.Javascript object>"
            ],
            "application/javascript": [
              "\n",
              "    async function download(id, filename, size) {\n",
              "      if (!google.colab.kernel.accessAllowed) {\n",
              "        return;\n",
              "      }\n",
              "      const div = document.createElement('div');\n",
              "      const label = document.createElement('label');\n",
              "      label.textContent = `Downloading \"${filename}\": `;\n",
              "      div.appendChild(label);\n",
              "      const progress = document.createElement('progress');\n",
              "      progress.max = size;\n",
              "      div.appendChild(progress);\n",
              "      document.body.appendChild(div);\n",
              "\n",
              "      const buffers = [];\n",
              "      let downloaded = 0;\n",
              "\n",
              "      const channel = await google.colab.kernel.comms.open(id);\n",
              "      // Send a message to notify the kernel that we're ready.\n",
              "      channel.send({})\n",
              "\n",
              "      for await (const message of channel.messages) {\n",
              "        // Send a message to notify the kernel that we're ready.\n",
              "        channel.send({})\n",
              "        if (message.buffers) {\n",
              "          for (const buffer of message.buffers) {\n",
              "            buffers.push(buffer);\n",
              "            downloaded += buffer.byteLength;\n",
              "            progress.value = downloaded;\n",
              "          }\n",
              "        }\n",
              "      }\n",
              "      const blob = new Blob(buffers, {type: 'application/binary'});\n",
              "      const a = document.createElement('a');\n",
              "      a.href = window.URL.createObjectURL(blob);\n",
              "      a.download = filename;\n",
              "      div.appendChild(a);\n",
              "      a.click();\n",
              "      div.remove();\n",
              "    }\n",
              "  "
            ]
          },
          "metadata": {}
        },
        {
          "output_type": "display_data",
          "data": {
            "text/plain": [
              "<IPython.core.display.Javascript object>"
            ],
            "application/javascript": [
              "download(\"download_393d1fda-36c5-4c06-9b0e-2a73491137ad\", \"data.zip\", 23193340)"
            ]
          },
          "metadata": {}
        }
      ]
    },
    {
      "cell_type": "code",
      "source": [
        "import os\n",
        "from google.colab import files\n",
        "\n",
        "# Specify the folder you want to download\n",
        "folder_path = '/content/results_graphs'\n",
        "\n",
        "# Specify the name of the zip file you want to create\n",
        "zip_name = 'results_graphs.zip'\n",
        "\n",
        "# Compress the folder\n",
        "!zip -r {zip_name} {folder_path}\n",
        "\n",
        "# Download the zipped file\n",
        "files.download(zip_name)\n",
        "\n",
        "# Optional: Cleanup by removing the zip file after download\n",
        "#os.remove(zip_name)\n"
      ],
      "metadata": {
        "colab": {
          "base_uri": "https://localhost:8080/",
          "height": 1000
        },
        "id": "DRD0fW_6jt4H",
        "outputId": "f62c1773-b231-4c9a-f2ed-875d8f3d8a26"
      },
      "execution_count": 9,
      "outputs": [
        {
          "output_type": "stream",
          "name": "stdout",
          "text": [
            "  adding: content/results_graphs/ (stored 0%)\n",
            "  adding: content/results_graphs/epoch_11_graphs.png (deflated 5%)\n",
            "  adding: content/results_graphs/epoch_7_graphs.png (deflated 5%)\n",
            "  adding: content/results_graphs/epoch_24_graphs.png (deflated 4%)\n",
            "  adding: content/results_graphs/computation_graphs/ (stored 0%)\n",
            "  adding: content/results_graphs/computation_graphs/computation_graph_epoch_15.png (stored 0%)\n",
            "  adding: content/results_graphs/computation_graphs/computation_graph_epoch_11.png.png (stored 0%)\n",
            "  adding: content/results_graphs/computation_graphs/computation_graph_epoch_24.png (stored 0%)\n",
            "  adding: content/results_graphs/computation_graphs/computation_graph_epoch_29.png.png (stored 0%)\n",
            "  adding: content/results_graphs/computation_graphs/computation_graph_epoch_4.png.png (stored 0%)\n",
            "  adding: content/results_graphs/computation_graphs/computation_graph_epoch_18.png.png (stored 0%)\n",
            "  adding: content/results_graphs/computation_graphs/computation_graph_epoch_6.png (stored 0%)\n",
            "  adding: content/results_graphs/computation_graphs/computation_graph_epoch_16.png (stored 0%)\n",
            "  adding: content/results_graphs/computation_graphs/computation_graph_epoch_17.png.png (stored 0%)\n",
            "  adding: content/results_graphs/computation_graphs/computation_graph_epoch_23.png (stored 0%)\n",
            "  adding: content/results_graphs/computation_graphs/computation_graph_epoch_12.png (stored 0%)\n",
            "  adding: content/results_graphs/computation_graphs/computation_graph_epoch_8.png.png (stored 0%)\n",
            "  adding: content/results_graphs/computation_graphs/computation_graph_epoch_1.png.png (stored 0%)\n",
            "  adding: content/results_graphs/computation_graphs/computation_graph_epoch_14.png (stored 0%)\n",
            "  adding: content/results_graphs/computation_graphs/computation_graph_epoch_29.png (stored 0%)\n",
            "  adding: content/results_graphs/computation_graphs/computation_graph_epoch_7.png (stored 0%)\n",
            "  adding: content/results_graphs/computation_graphs/computation_graph_epoch_2.png (stored 0%)\n",
            "  adding: content/results_graphs/computation_graphs/computation_graph_epoch_27.png (stored 0%)\n",
            "  adding: content/results_graphs/computation_graphs/computation_graph_epoch_26.png (stored 0%)\n",
            "  adding: content/results_graphs/computation_graphs/computation_graph_epoch_24.png.png (stored 0%)\n",
            "  adding: content/results_graphs/computation_graphs/computation_graph_epoch_4.png (stored 0%)\n",
            "  adding: content/results_graphs/computation_graphs/computation_graph_epoch_9.png.png (stored 0%)\n",
            "  adding: content/results_graphs/computation_graphs/computation_graph_epoch_0.png (stored 0%)\n",
            "  adding: content/results_graphs/computation_graphs/computation_graph_epoch_13.png.png (stored 0%)\n",
            "  adding: content/results_graphs/computation_graphs/computation_graph_epoch_12.png.png (stored 0%)\n",
            "  adding: content/results_graphs/computation_graphs/computation_graph_epoch_13.png (stored 0%)\n",
            "  adding: content/results_graphs/computation_graphs/computation_graph_epoch_0.png.png (stored 0%)\n",
            "  adding: content/results_graphs/computation_graphs/computation_graph_epoch_14.png.png (stored 0%)\n",
            "  adding: content/results_graphs/computation_graphs/computation_graph_epoch_11.png (stored 0%)\n",
            "  adding: content/results_graphs/computation_graphs/computation_graph_epoch_1.png (stored 0%)\n",
            "  adding: content/results_graphs/computation_graphs/computation_graph_epoch_20.png (stored 0%)\n",
            "  adding: content/results_graphs/computation_graphs/computation_graph_epoch_25.png.png (stored 0%)\n",
            "  adding: content/results_graphs/computation_graphs/computation_graph_epoch_23.png.png (stored 0%)\n",
            "  adding: content/results_graphs/computation_graphs/computation_graph_epoch_20.png.png (stored 0%)\n",
            "  adding: content/results_graphs/computation_graphs/computation_graph_epoch_2.png.png (stored 0%)\n",
            "  adding: content/results_graphs/computation_graphs/computation_graph_epoch_16.png.png (stored 0%)\n",
            "  adding: content/results_graphs/computation_graphs/computation_graph_epoch_9.png (stored 0%)\n",
            "  adding: content/results_graphs/computation_graphs/computation_graph_epoch_5.png (stored 0%)\n",
            "  adding: content/results_graphs/computation_graphs/computation_graph_epoch_17.png (stored 0%)\n",
            "  adding: content/results_graphs/computation_graphs/computation_graph_epoch_10.png (stored 0%)\n",
            "  adding: content/results_graphs/computation_graphs/computation_graph_epoch_19.png (stored 0%)\n",
            "  adding: content/results_graphs/computation_graphs/computation_graph_epoch_6.png.png (stored 0%)\n",
            "  adding: content/results_graphs/computation_graphs/computation_graph_epoch_28.png (stored 0%)\n",
            "  adding: content/results_graphs/computation_graphs/computation_graph_epoch_22.png (stored 0%)\n",
            "  adding: content/results_graphs/computation_graphs/computation_graph_epoch_27.png.png (stored 0%)\n",
            "  adding: content/results_graphs/computation_graphs/computation_graph_epoch_3.png.png (stored 0%)\n",
            "  adding: content/results_graphs/computation_graphs/computation_graph_epoch_26.png.png (stored 0%)\n",
            "  adding: content/results_graphs/computation_graphs/computation_graph_epoch_8.png (stored 0%)\n",
            "  adding: content/results_graphs/computation_graphs/computation_graph_epoch_15.png.png (stored 0%)\n",
            "  adding: content/results_graphs/computation_graphs/computation_graph_epoch_3.png (stored 0%)\n",
            "  adding: content/results_graphs/computation_graphs/computation_graph_epoch_25.png (stored 0%)\n",
            "  adding: content/results_graphs/computation_graphs/computation_graph_epoch_10.png.png (stored 0%)\n",
            "  adding: content/results_graphs/computation_graphs/computation_graph_epoch_21.png.png (stored 0%)\n",
            "  adding: content/results_graphs/computation_graphs/computation_graph_epoch_19.png.png (stored 0%)\n",
            "  adding: content/results_graphs/computation_graphs/computation_graph_epoch_7.png.png (stored 0%)\n",
            "  adding: content/results_graphs/computation_graphs/computation_graph_epoch_5.png.png (stored 0%)\n",
            "  adding: content/results_graphs/computation_graphs/computation_graph_epoch_18.png (stored 0%)\n",
            "  adding: content/results_graphs/computation_graphs/computation_graph_epoch_22.png.png (stored 0%)\n",
            "  adding: content/results_graphs/computation_graphs/computation_graph_epoch_28.png.png (stored 0%)\n",
            "  adding: content/results_graphs/computation_graphs/computation_graph_epoch_21.png (stored 0%)\n",
            "  adding: content/results_graphs/epoch_14_graphs.png (deflated 4%)\n",
            "  adding: content/results_graphs/epoch_12_graphs.png (deflated 5%)\n",
            "  adding: content/results_graphs/epoch_1_graphs.png (deflated 12%)\n",
            "  adding: content/results_graphs/epoch_18_graphs.png (deflated 4%)\n",
            "  adding: content/results_graphs/epoch_4_graphs.png (deflated 7%)\n",
            "  adding: content/results_graphs/epoch_21_graphs.png (deflated 4%)\n",
            "  adding: content/results_graphs/epoch_6_graphs.png (deflated 5%)\n",
            "  adding: content/results_graphs/epoch_13_graphs.png (deflated 4%)\n",
            "  adding: content/results_graphs/epoch_20_graphs.png (deflated 4%)\n",
            "  adding: content/results_graphs/epoch_19_graphs.png (deflated 4%)\n",
            "  adding: content/results_graphs/epoch_29_graphs.png (deflated 4%)\n",
            "  adding: content/results_graphs/epoch_16_graphs.png (deflated 4%)\n",
            "  adding: content/results_graphs/epoch_17_graphs.png (deflated 4%)\n",
            "  adding: content/results_graphs/epoch_2_graphs.png (deflated 10%)\n",
            "  adding: content/results_graphs/epoch_23_graphs.png (deflated 4%)\n",
            "  adding: content/results_graphs/epoch_27_graphs.png (deflated 4%)\n",
            "  adding: content/results_graphs/epoch_25_graphs.png (deflated 4%)\n",
            "  adding: content/results_graphs/epoch_9_graphs.png (deflated 5%)\n",
            "  adding: content/results_graphs/epoch_0_graphs.png (deflated 19%)\n",
            "  adding: content/results_graphs/epoch_3_graphs.png (deflated 7%)\n",
            "  adding: content/results_graphs/epoch_28_graphs.png (deflated 4%)\n",
            "  adding: content/results_graphs/epoch_10_graphs.png (deflated 4%)\n",
            "  adding: content/results_graphs/epoch_22_graphs.png (deflated 4%)\n",
            "  adding: content/results_graphs/epoch_8_graphs.png (deflated 5%)\n",
            "  adding: content/results_graphs/epoch_26_graphs.png (deflated 4%)\n",
            "  adding: content/results_graphs/acc_loss/ (stored 0%)\n",
            "  adding: content/results_graphs/acc_loss/epoch_11_graphs.png (deflated 7%)\n",
            "  adding: content/results_graphs/acc_loss/epoch_7_graphs.png (deflated 8%)\n",
            "  adding: content/results_graphs/acc_loss/epoch_24_graphs.png (deflated 5%)\n",
            "  adding: content/results_graphs/acc_loss/epoch_14_graphs.png (deflated 6%)\n",
            "  adding: content/results_graphs/acc_loss/epoch_12_graphs.png (deflated 6%)\n",
            "  adding: content/results_graphs/acc_loss/epoch_1_graphs.png (deflated 12%)\n",
            "  adding: content/results_graphs/acc_loss/epoch_18_graphs.png (deflated 5%)\n",
            "  adding: content/results_graphs/acc_loss/epoch_4_graphs.png (deflated 10%)\n",
            "  adding: content/results_graphs/acc_loss/epoch_21_graphs.png (deflated 5%)\n",
            "  adding: content/results_graphs/acc_loss/epoch_6_graphs.png (deflated 9%)\n",
            "  adding: content/results_graphs/acc_loss/epoch_13_graphs.png (deflated 6%)\n",
            "  adding: content/results_graphs/acc_loss/epoch_20_graphs.png (deflated 5%)\n",
            "  adding: content/results_graphs/acc_loss/epoch_19_graphs.png (deflated 5%)\n",
            "  adding: content/results_graphs/acc_loss/epoch_29_graphs.png (deflated 5%)\n",
            "  adding: content/results_graphs/acc_loss/epoch_16_graphs.png (deflated 7%)\n",
            "  adding: content/results_graphs/acc_loss/epoch_17_graphs.png (deflated 6%)\n",
            "  adding: content/results_graphs/acc_loss/epoch_2_graphs.png (deflated 10%)\n",
            "  adding: content/results_graphs/acc_loss/epoch_23_graphs.png (deflated 5%)\n",
            "  adding: content/results_graphs/acc_loss/epoch_27_graphs.png (deflated 5%)\n",
            "  adding: content/results_graphs/acc_loss/epoch_25_graphs.png (deflated 5%)\n",
            "  adding: content/results_graphs/acc_loss/epoch_9_graphs.png (deflated 7%)\n",
            "  adding: content/results_graphs/acc_loss/epoch_0_graphs.png (deflated 19%)\n",
            "  adding: content/results_graphs/acc_loss/epoch_3_graphs.png (deflated 9%)\n",
            "  adding: content/results_graphs/acc_loss/epoch_28_graphs.png (deflated 5%)\n",
            "  adding: content/results_graphs/acc_loss/epoch_10_graphs.png (deflated 7%)\n",
            "  adding: content/results_graphs/acc_loss/epoch_22_graphs.png (deflated 5%)\n",
            "  adding: content/results_graphs/acc_loss/epoch_8_graphs.png (deflated 7%)\n",
            "  adding: content/results_graphs/acc_loss/epoch_26_graphs.png (deflated 5%)\n",
            "  adding: content/results_graphs/acc_loss/epoch_15_graphs.png (deflated 6%)\n",
            "  adding: content/results_graphs/acc_loss/epoch_5_graphs.png (deflated 9%)\n",
            "  adding: content/results_graphs/epoch_15_graphs.png (deflated 4%)\n",
            "  adding: content/results_graphs/epoch_5_graphs.png (deflated 5%)\n"
          ]
        },
        {
          "output_type": "display_data",
          "data": {
            "text/plain": [
              "<IPython.core.display.Javascript object>"
            ],
            "application/javascript": [
              "\n",
              "    async function download(id, filename, size) {\n",
              "      if (!google.colab.kernel.accessAllowed) {\n",
              "        return;\n",
              "      }\n",
              "      const div = document.createElement('div');\n",
              "      const label = document.createElement('label');\n",
              "      label.textContent = `Downloading \"${filename}\": `;\n",
              "      div.appendChild(label);\n",
              "      const progress = document.createElement('progress');\n",
              "      progress.max = size;\n",
              "      div.appendChild(progress);\n",
              "      document.body.appendChild(div);\n",
              "\n",
              "      const buffers = [];\n",
              "      let downloaded = 0;\n",
              "\n",
              "      const channel = await google.colab.kernel.comms.open(id);\n",
              "      // Send a message to notify the kernel that we're ready.\n",
              "      channel.send({})\n",
              "\n",
              "      for await (const message of channel.messages) {\n",
              "        // Send a message to notify the kernel that we're ready.\n",
              "        channel.send({})\n",
              "        if (message.buffers) {\n",
              "          for (const buffer of message.buffers) {\n",
              "            buffers.push(buffer);\n",
              "            downloaded += buffer.byteLength;\n",
              "            progress.value = downloaded;\n",
              "          }\n",
              "        }\n",
              "      }\n",
              "      const blob = new Blob(buffers, {type: 'application/binary'});\n",
              "      const a = document.createElement('a');\n",
              "      a.href = window.URL.createObjectURL(blob);\n",
              "      a.download = filename;\n",
              "      div.appendChild(a);\n",
              "      a.click();\n",
              "      div.remove();\n",
              "    }\n",
              "  "
            ]
          },
          "metadata": {}
        },
        {
          "output_type": "display_data",
          "data": {
            "text/plain": [
              "<IPython.core.display.Javascript object>"
            ],
            "application/javascript": [
              "download(\"download_23448a48-2aa3-4ecf-b53d-7dca7c7f22e0\", \"results_graphs.zip\", 2353404)"
            ]
          },
          "metadata": {}
        }
      ]
    },
    {
      "cell_type": "code",
      "source": [
        "import os\n",
        "from IPython.display import Image, display\n",
        "\n",
        "# Set the directory containing your images\n",
        "image_dir = '/content/results_graphs/computation_graphs'\n",
        "\n",
        "# List all files in the directory\n",
        "image_files = [os.path.join(image_dir, file) for file in os.listdir(image_dir) if file.endswith('.png')]\n",
        "\n",
        "# Sort the files to display them in order\n",
        "image_files.sort()\n",
        "\n",
        "# Display each image in the directory\n",
        "for image_file in image_files:\n",
        "    display(Image(filename=image_file))\n"
      ],
      "metadata": {
        "colab": {
          "base_uri": "https://localhost:8080/",
          "height": 1000
        },
        "id": "H6Gxoe89kmF3",
        "outputId": "d9340787-e835-40ec-ea2d-9ca2c081f6c0"
      },
      "execution_count": 11,
      "outputs": [
        {
          "output_type": "display_data",
          "data": {
            "image/png": "[encoded data removed]",
            "text/plain": [
              "<IPython.core.display.Image object>"
            ]
          },
          "metadata": {}
        },
        {
          "output_type": "display_data",
          "data": {
            "image/png": "[encoded data removed]",
            "text/plain": [
              "<IPython.core.display.Image object>"
            ]
          },
          "metadata": {}
        },
        {
          "output_type": "display_data",
          "data": {
            "image/png": "[encoded data removed]",
            "text/plain": [
              "<IPython.core.display.Image object>"
            ]
          },
          "metadata": {}
        },
        {
          "output_type": "display_data",
          "data": {
            "image/png": "[encoded data removed]",
            "text/plain": [
              "<IPython.core.display.Image object>"
            ]
          },
          "metadata": {}
        },
        {
          "output_type": "display_data",
          "data": {
            "image/png": "[encoded data removed]",
            "text/plain": [
              "<IPython.core.display.Image object>"
            ]
          },
          "metadata": {}
        },
        {
          "output_type": "display_data",
          "data": {
            "image/png": "[encoded data removed]",
            "text/plain": [
              "<IPython.core.display.Image object>"
            ]
          },
          "metadata": {}
        },
        {
          "output_type": "display_data",
          "data": {
            "image/png": "[encoded data removed]",
            "text/plain": [
              "<IPython.core.display.Image object>"
            ]
          },
          "metadata": {}
        },
        {
          "output_type": "display_data",
          "data": {
            "image/png": "[encoded data removed]",
            "text/plain": [
              "<IPython.core.display.Image object>"
            ]
          },
          "metadata": {}
        },
        {
          "output_type": "display_data",
          "data": {
            "image/png": "[encoded data removed]",
            "text/plain": [
              "<IPython.core.display.Image object>"
            ]
          },
          "metadata": {}
        },
        {
          "output_type": "display_data",
          "data": {
            "image/png": "[encoded data removed]",
            "text/plain": [
              "<IPython.core.display.Image object>"
            ]
          },
          "metadata": {}
        },
        {
          "output_type": "display_data",
          "data": {
            "image/png": "[encoded data removed]",
            "text/plain": [
              "<IPython.core.display.Image object>"
            ]
          },
          "metadata": {}
        },
        {
          "output_type": "display_data",
          "data": {
            "image/png": "[encoded data removed]",
            "text/plain": [
              "<IPython.core.display.Image object>"
            ]
          },
          "metadata": {}
        },
        {
          "output_type": "display_data",
          "data": {
            "image/png": "[encoded data removed]",
            "text/plain": [
              "<IPython.core.display.Image object>"
            ]
          },
          "metadata": {}
        },
        {
          "output_type": "display_data",
          "data": {
            "image/png": "[encoded data removed]",
            "text/plain": [
              "<IPython.core.display.Image object>"
            ]
          },
          "metadata": {}
        },
        {
          "output_type": "display_data",
          "data": {
            "image/png": "[encoded data removed]",
            "text/plain": [
              "<IPython.core.display.Image object>"
            ]
          },
          "metadata": {}
        },
        {
          "output_type": "display_data",
          "data": {
            "image/png": "[encoded data removed]",
            "text/plain": [
              "<IPython.core.display.Image object>"
            ]
          },
          "metadata": {}
        },
        {
          "output_type": "display_data",
          "data": {
            "image/png": "[encoded data removed]",
            "text/plain": [
              "<IPython.core.display.Image object>"
            ]
          },
          "metadata": {}
        },
        {
          "output_type": "display_data",
          "data": {
            "image/png": "[encoded data removed]",
            "text/plain": [
              "<IPython.core.display.Image object>"
            ]
          },
          "metadata": {}
        },
        {
          "output_type": "display_data",
          "data": {
            "image/png": "[encoded data removed]",
            "text/plain": [
              "<IPython.core.display.Image object>"
            ]
          },
          "metadata": {}
        },
        {
          "output_type": "display_data",
          "data": {
            "image/png": "[encoded data removed]",
            "text/plain": [
              "<IPython.core.display.Image object>"
            ]
          },
          "metadata": {}
        },
        {
          "output_type": "display_data",
          "data": {
            "image/png": "[encoded data removed]",
            "text/plain": [
              "<IPython.core.display.Image object>"
            ]
          },
          "metadata": {}
        },
        {
          "output_type": "display_data",
          "data": {
            "image/png": "[encoded data removed]",
            "text/plain": [
              "<IPython.core.display.Image object>"
            ]
          },
          "metadata": {}
        },
        {
          "output_type": "display_data",
          "data": {
            "image/png": "[encoded data removed]",
            "text/plain": [
              "<IPython.core.display.Image object>"
            ]
          },
          "metadata": {}
        },
        {
          "output_type": "display_data",
          "data": {
            "image/png": "[encoded data removed]",
            "text/plain": [
              "<IPython.core.display.Image object>"
            ]
          },
          "metadata": {}
        },
        {
          "output_type": "display_data",
          "data": {
            "image/png": "[encoded data removed]",
            "text/plain": [
              "<IPython.core.display.Image object>"
            ]
          },
          "metadata": {}
        },
        {
          "output_type": "display_data",
          "data": {
            "image/png": "[encoded data removed]",
            "text/plain": [
              "<IPython.core.display.Image object>"
            ]
          },
          "metadata": {}
        },
        {
          "output_type": "display_data",
          "data": {
            "image/png": "[encoded data removed]",
            "text/plain": [
              "<IPython.core.display.Image object>"
            ]
          },
          "metadata": {}
        },
        {
          "output_type": "display_data",
          "data": {
            "image/png": "[encoded data removed]",
            "text/plain": [
              "<IPython.core.display.Image object>"
            ]
          },
          "metadata": {}
        },
        {
          "output_type": "display_data",
          "data": {
            "image/png": "[encoded data removed]",
            "text/plain": [
              "<IPython.core.display.Image object>"
            ]
          },
          "metadata": {}
        },
        {
          "output_type": "display_data",
          "data": {
            "image/png": "[encoded data removed]",
            "text/plain": [
              "<IPython.core.display.Image object>"
            ]
          },
          "metadata": {}
        },
        {
          "output_type": "display_data",
          "data": {
            "image/png": "[encoded data removed]",
            "text/plain": [
              "<IPython.core.display.Image object>"
            ]
          },
          "metadata": {}
        },
        {
          "output_type": "display_data",
          "data": {
            "image/png": "[encoded data removed]",
            "text/plain": [
              "<IPython.core.display.Image object>"
            ]
          },
          "metadata": {}
        },
        {
          "output_type": "display_data",
          "data": {
            "image/png": "[encoded data removed]",
            "text/plain": [
              "<IPython.core.display.Image object>"
            ]
          },
          "metadata": {}
        },
        {
          "output_type": "display_data",
          "data": {
            "image/png": "[encoded data removed]",
            "text/plain": [
              "<IPython.core.display.Image object>"
            ]
          },
          "metadata": {}
        },
        {
          "output_type": "display_data",
          "data": {
            "image/png": "[encoded data removed]",
            "text/plain": [
              "<IPython.core.display.Image object>"
            ]
          },
          "metadata": {}
        },
        {
          "output_type": "display_data",
          "data": {
            "image/png": "[encoded data removed]",
            "text/plain": [
              "<IPython.core.display.Image object>"
            ]
          },
          "metadata": {}
        },
        {
          "output_type": "display_data",
          "data": {
            "image/png": "[encoded data removed]",
            "text/plain": [
              "<IPython.core.display.Image object>"
            ]
          },
          "metadata": {}
        },
        {
          "output_type": "display_data",
          "data": {
            "image/png": "[encoded data removed]",
            "text/plain": [
              "<IPython.core.display.Image object>"
            ]
          },
          "metadata": {}
        },
        {
          "output_type": "display_data",
          "data": {
            "image/png": "[encoded data removed]",
            "text/plain": [
              "<IPython.core.display.Image object>"
            ]
          },
          "metadata": {}
        },
        {
          "output_type": "display_data",
          "data": {
            "image/png": "[encoded data removed]",
            "text/plain": [
              "<IPython.core.display.Image object>"
            ]
          },
          "metadata": {}
        },
        {
          "output_type": "display_data",
          "data": {
            "image/png": "[encoded data removed]",
            "text/plain": [
              "<IPython.core.display.Image object>"
            ]
          },
          "metadata": {}
        },
        {
          "output_type": "display_data",
          "data": {
            "image/png": "[encoded data removed]",
            "text/plain": [
              "<IPython.core.display.Image object>"
            ]
          },
          "metadata": {}
        },
        {
          "output_type": "display_data",
          "data": {
            "image/png": "[encoded data removed]",
            "text/plain": [
              "<IPython.core.display.Image object>"
            ]
          },
          "metadata": {}
        },
        {
          "output_type": "display_data",
          "data": {
            "image/png": "[encoded data removed]",
            "text/plain": [
              "<IPython.core.display.Image object>"
            ]
          },
          "metadata": {}
        },
        {
          "output_type": "display_data",
          "data": {
            "image/png": "[encoded data removed]",
            "text/plain": [
              "<IPython.core.display.Image object>"
            ]
          },
          "metadata": {}
        },
        {
          "output_type": "display_data",
          "data": {
            "image/png": "[encoded data removed]",
            "text/plain": [
              "<IPython.core.display.Image object>"
            ]
          },
          "metadata": {}
        },
        {
          "output_type": "display_data",
          "data": {
            "image/png": "[encoded data removed]",
            "text/plain": [
              "<IPython.core.display.Image object>"
            ]
          },
          "metadata": {}
        },
        {
          "output_type": "display_data",
          "data": {
            "image/png": "[encoded data removed]",
            "text/plain": [
              "<IPython.core.display.Image object>"
            ]
          },
          "metadata": {}
        },
        {
          "output_type": "display_data",
          "data": {
            "image/png": "[encoded data removed]",
            "text/plain": [
              "<IPython.core.display.Image object>"
            ]
          },
          "metadata": {}
        },
        {
          "output_type": "display_data",
          "data": {
            "image/png": "[encoded data removed]",
            "text/plain": [
              "<IPython.core.display.Image object>"
            ]
          },
          "metadata": {}
        },
        {
          "output_type": "display_data",
          "data": {
            "image/png": "[encoded data removed]",
            "text/plain": [
              "<IPython.core.display.Image object>"
            ]
          },
          "metadata": {}
        },
        {
          "output_type": "display_data",
          "data": {
            "image/png": "[encoded data removed]",
            "text/plain": [
              "<IPython.core.display.Image object>"
            ]
          },
          "metadata": {}
        },
        {
          "output_type": "display_data",
          "data": {
            "image/png": "[encoded data removed]",
            "text/plain": [
              "<IPython.core.display.Image object>"
            ]
          },
          "metadata": {}
        },
        {
          "output_type": "display_data",
          "data": {
            "image/png": "[encoded data removed]",
            "text/plain": [
              "<IPython.core.display.Image object>"
            ]
          },
          "metadata": {}
        },
        {
          "output_type": "display_data",
          "data": {
            "image/png": "[encoded data removed]",
            "text/plain": [
              "<IPython.core.display.Image object>"
            ]
          },
          "metadata": {}
        },
        {
          "output_type": "display_data",
          "data": {
            "image/png": "[encoded data removed]",
            "text/plain": [
              "<IPython.core.display.Image object>"
            ]
          },
          "metadata": {}
        },
        {
          "output_type": "display_data",
          "data": {
            "image/png": "[encoded data removed]",
            "text/plain": [
              "<IPython.core.display.Image object>"
            ]
          },
          "metadata": {}
        },
        {
          "output_type": "display_data",
          "data": {
            "image/png": "[encoded data removed]",
            "text/plain": [
              "<IPython.core.display.Image object>"
            ]
          },
          "metadata": {}
        },
        {
          "output_type": "display_data",
          "data": {
            "image/png": "[encoded data removed]",
            "text/plain": [
              "<IPython.core.display.Image object>"
            ]
          },
          "metadata": {}
        },
        {
          "output_type": "display_data",
          "data": {
            "image/png": "[encoded data removed]",
            "text/plain": [
              "<IPython.core.display.Image object>"
            ]
          },
          "metadata": {}
        }
      ]
    },
    {
      "cell_type": "code",
      "source": [],
      "metadata": {
        "id": "bJ5CUutEn3jx"
      },
      "execution_count": null,
      "outputs": []
    }
  ]
}